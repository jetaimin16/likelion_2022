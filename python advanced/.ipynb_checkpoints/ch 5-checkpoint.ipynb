{
 "cells": [
  {
   "cell_type": "markdown",
   "id": "04a3e275",
   "metadata": {},
   "source": [
    "# Step 2. 사전 준비\n",
    "- IMAP 사용 설정\n",
    "- 외부접속 보안 설정"
   ]
  },
  {
   "cell_type": "markdown",
   "id": "16188503",
   "metadata": {},
   "source": [
    "# Step 3, 4, 5, 6. SMTP\n",
    "- SMTP: Simple Mail Transfer Protocol - 원하는 곳으로 메일 전송 가능\n",
    "- Email Client --SMTP-> Email Server <-SMTP-> another Server\n",
    "- Email Server --IMAP-> Email Client\n",
    "- SMTP 서버: Address / Port(gmail: 465)\n",
    "- smtplib: SMTP_SSL(SMTP_SERVER, SMTP_PORT)\n",
    "- 메일 전송 절차\n",
    "  1. SMTP 메일 서버 연결\n",
    "  2. SMTP 메일 서버 로그인\n",
    "  3. SMTP 메일 서버로 메일 전송"
   ]
  },
  {
   "cell_type": "code",
   "execution_count": 3,
   "id": "16b4d910",
   "metadata": {},
   "outputs": [
    {
     "name": "stdout",
     "output_type": "stream",
     "text": [
      "<smtplib.SMTP_SSL object at 0x000002049D0F55B0>\n"
     ]
    }
   ],
   "source": [
    "import smtplib\n",
    "\n",
    "SMTP_SERVER = \"smtp.gmail.com\"\n",
    "SMTP_PORT = \"465\"\n",
    "\n",
    "# 메일 서버 연결\n",
    "smtp = smtplib.SMTP_SSL(SMTP_SERVER, SMTP_PORT)\n",
    "print(smtp)"
   ]
  },
  {
   "cell_type": "code",
   "execution_count": 6,
   "id": "b3f4d36e",
   "metadata": {},
   "outputs": [
    {
     "name": "stdout",
     "output_type": "stream",
     "text": [
      "(235, b'2.7.0 Accepted')\n"
     ]
    }
   ],
   "source": [
    "# 메일 서버 로그인\n",
    "smtp.login(\"####@gmail.com\", \"#####\")"
   ]
  },
  {
   "cell_type": "code",
   "execution_count": null,
   "id": "4d4155a8",
   "metadata": {},
   "outputs": [],
   "source": [
    "# 메일 전송\n",
    "smtp.send_message()"
   ]
  },
  {
   "cell_type": "markdown",
   "id": "33a9a12b",
   "metadata": {},
   "source": [
    "# Step 7, 8. MIME\n",
    "- 전자 우편을 위한 인터넷 표준 포맷\n",
    "- MIME 형태의 메일 작성 절차\n",
    "  1. 이메일 생성\n",
    "  2. 이메일에 내용 담기\n",
    "  3. 발신자/수신자 설정"
   ]
  },
  {
   "cell_type": "markdown",
   "id": "ff7d9395",
   "metadata": {},
   "source": [
    "# Step 9. 메일 전송하기"
   ]
  },
  {
   "cell_type": "code",
   "execution_count": null,
   "id": "40a08c05",
   "metadata": {},
   "outputs": [],
   "source": [
    "import smtplib\n",
    "from email.message import EmailMessage\n",
    "\n",
    "SMTP_SERVER = \"smtp.gmail.com\"\n",
    "SMTP_PORT = 465\n",
    "\n",
    "message = EmailMessage()\n",
    "\n",
    "message.set_content(\"코드라이언 수업중입니다.\") # 메일 본문 담기\n",
    "\n",
    "# Header - 메일 제목, 발신, 수신자 설정\n",
    "message[\"Subject\"] = \"이것은 제목입니다.\"\n",
    "message[\"From\"] = \"###@gmail.com\"\n",
    "message[\"To\"] = \"###@gmail.com\"\n",
    "\n",
    "smtp = smtplib.SMTP_SSL(SMTP_SERVER,SMTP_PORT)\n",
    "smtp.login(\"###@gmail.com\",\"######\")\n",
    "smtp.send_message(message) # 생성한 MIME 넣기\n",
    "smtp.quit()"
   ]
  },
  {
   "cell_type": "markdown",
   "id": "ad83ac60",
   "metadata": {},
   "source": [
    "# Step 10, 11. 메일에 사진 첨부하기\n",
    "- add_attachment(): multipart/mixed 타입의 메일 전송\n",
    "  1. image\n",
    "  2. maintype: 이미지/영상... 등 첨부할 파일 종류\n",
    "  3. subtype: 확장자"
   ]
  },
  {
   "cell_type": "code",
   "execution_count": null,
   "id": "90f41143",
   "metadata": {},
   "outputs": [],
   "source": [
    "import smtplib\n",
    "from email.message import EmailMessage\n",
    "import imghdr # 확장자 자동 판단\n",
    "\n",
    "SMTP_SERVER = \"smtp.gmail.com\"\n",
    "SMTP_PORT = 465\n",
    "\n",
    "message = EmailMessage()\n",
    "\n",
    "message.set_content(\"코드라이언 수업중입니다.\") # 메일 본문 담기\n",
    "\n",
    "# Header - 메일 제목, 발신, 수신자 설정\n",
    "message[\"Subject\"] = \"이것은 제목입니다.\"\n",
    "message[\"From\"] = \"###@gmail.com\"\n",
    "message[\"To\"] = \"###@gmail.com\"\n",
    "\n",
    "# 자동으로 파일 닫힘\n",
    "with open(\"codelion.png\", \"rb\") as image:\n",
    "    image_file = image.read() # binary file 형태\n",
    "\n",
    "image_type = imghdr.what(\"codelion\", image_file)\n",
    "message.add_attachment(image_file, maintype=\"image\", subtype=image_type)\n",
    "\n",
    "# smtp = smtplib.SMTP_SSL(SMTP_SERVER,SMTP_PORT)\n",
    "# smtp.login(\"###@gmail.com\",\"######\")\n",
    "# smtp.send_message(message) # 생성한 MIME 넣기\n",
    "# smtp.quit()"
   ]
  },
  {
   "cell_type": "markdown",
   "id": "3eb144b4",
   "metadata": {},
   "source": [
    "# Step 12, 13. 유효성 검사하기\n",
    "- 유효성 검사: 이메일 주소가 진짜 이메일 주소인지 확인\n",
    "- 정규표현식\n",
    "  - ^: 시작 / $: 끝\n",
    "  - [a-zA-Z0-9.+_-] **+**: a to z, A to Z, 0 to 9, ., +, _, - / **+**: 대괄호 조건 1회 이상 반복(없으면 한 글자를 의미)\n",
    "  - \\.: 뒤에 .이 붙는다\n",
    "    - 원래 .은 모든 문자를 의미함 -> \\를 붙여 .이라는 문자를 나타냄을 표현\n",
    "  - [a-zA-Z]**{2, 3}**: a to z, A to Z, 최소 2회, 최대 3회 반복"
   ]
  },
  {
   "cell_type": "code",
   "execution_count": null,
   "id": "c8ee02bf",
   "metadata": {},
   "outputs": [],
   "source": [
    "import smtplib\n",
    "from email.message import EmailMessage\n",
    "import imghdr # 확장자 자동 판단\n",
    "import re\n",
    "\n",
    "SMTP_SERVER = \"smtp.gmail.com\"\n",
    "SMTP_PORT = 465\n",
    "\n",
    "def sendEmail(addr):\n",
    "    reg = \"^[a-zA-z0-9.+_-]+@[a-zA-Z0-9]\\.+[a-zA-Z]{2, 3}$\"\n",
    "    if bool(re.match(reg, addr)): # 매치되지 않는 경우 None\n",
    "        smtp.send_message(message)\n",
    "        print(\"정상적으로 메일이 발송되었습니다.\")\n",
    "    else:\n",
    "        print(\"유효한 이메일 주소가 아닙니다.\")\n",
    "\n",
    "message = EmailMessage()\n",
    "\n",
    "message.set_content(\"코드라이언 수업중입니다.\") # 메일 본문 담기\n",
    "\n",
    "# Header - 메일 제목, 발신, 수신자 설정\n",
    "message[\"Subject\"] = \"이것은 제목입니다.\"\n",
    "message[\"From\"] = \"###@gmail.com\"\n",
    "message[\"To\"] = \"###@gmail.com\"\n",
    "\n",
    "# 자동으로 파일 닫힘\n",
    "with open(\"codelion.png\", \"rb\") as image:\n",
    "    image_file = image.read() # binary file 형태\n",
    "\n",
    "image_type = imghdr.what(\"codelion\", image_file)\n",
    "message.add_attachment(image_file, maintype=\"image\", subtype=image_type)\n",
    "\n",
    "smtp = smtplib.SMTP_SSL(SMTP_SERVER,SMTP_PORT)\n",
    "smtp.login(\"###@gmail.com\",\"######\")\n",
    "sendEmai(\"###@gmail.com\")\n",
    "smtp.quit()"
   ]
  }
 ],
 "metadata": {
  "kernelspec": {
   "display_name": "Python 3 (ipykernel)",
   "language": "python",
   "name": "python3"
  },
  "language_info": {
   "codemirror_mode": {
    "name": "ipython",
    "version": 3
   },
   "file_extension": ".py",
   "mimetype": "text/x-python",
   "name": "python",
   "nbconvert_exporter": "python",
   "pygments_lexer": "ipython3",
   "version": "3.9.7"
  }
 },
 "nbformat": 4,
 "nbformat_minor": 5
}
