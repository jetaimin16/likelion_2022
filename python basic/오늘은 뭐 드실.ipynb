{
 "cells": [
  {
   "cell_type": "code",
   "execution_count": 1,
   "id": "e0527866",
   "metadata": {},
   "outputs": [
    {
     "name": "stdout",
     "output_type": "stream",
     "text": [
      "제육볶음\n"
     ]
    }
   ],
   "source": [
    "# step 2\n",
    "import random\n",
    "\n",
    "print(random.choice([\"된장찌개\", \"피자\", \"제육볶음\"]))"
   ]
  },
  {
   "cell_type": "code",
   "execution_count": 3,
   "id": "eed6b1d0",
   "metadata": {
    "scrolled": false
   },
   "outputs": [
    {
     "name": "stdout",
     "output_type": "stream",
     "text": [
      "치킨\n",
      "감자튀김\n",
      "치킨\n",
      "치킨\n",
      "된장찌개\n",
      "치킨\n",
      "감자튀김\n",
      "라면\n",
      "라면\n",
      "된장찌개\n",
      "치킨\n",
      "라면\n",
      "떡볶이\n",
      "된장찌개\n",
      "된장찌개\n",
      "된장찌개\n",
      "떡볶이\n",
      "떡볶이\n",
      "떡볶이\n",
      "떡볶이\n",
      "떡볶이\n",
      "된장찌개\n",
      "치킨\n",
      "감자튀김\n",
      "떡볶이\n",
      "치킨\n",
      "떡볶이\n",
      "라면\n",
      "떡볶이\n",
      "라면\n"
     ]
    }
   ],
   "source": [
    "# step 4\n",
    "import random\n",
    "\n",
    "for i in range(30):\n",
    "    print(random.choice([\"된장찌개\", \"치킨\", \"떡볶이\", \"라면\", \"감자튀김\"]))"
   ]
  },
  {
   "cell_type": "code",
   "execution_count": 4,
   "id": "a469d16f",
   "metadata": {},
   "outputs": [
    {
     "name": "stdout",
     "output_type": "stream",
     "text": [
      "감자튀김\n"
     ]
    }
   ],
   "source": [
    "# step 4\n",
    "while True:\n",
    "    print(random.choice([\"된장찌개\", \"치킨\", \"떡볶이\", \"라면\", \"감자튀김\"]))\n",
    "    break\n",
    "    print(\"이 문장도 반복되나\")   "
   ]
  },
  {
   "cell_type": "code",
   "execution_count": 6,
   "id": "31b10bdb",
   "metadata": {},
   "outputs": [
    {
     "name": "stdout",
     "output_type": "stream",
     "text": [
      "냉장고\n",
      "김밥\n"
     ]
    }
   ],
   "source": [
    "# step 5\n",
    "import random\n",
    "\n",
    "lunch = random.choice([\"된장찌개\",\"피자\",\"제육볶음\"])\n",
    "lunch = \"냉장고\"\n",
    "dinner = random.choice([\"김밥\",\"쫄면\",\"돈까스\"])\n",
    "\n",
    "print(lunch)\n",
    "print(dinner)"
   ]
  },
  {
   "cell_type": "code",
   "execution_count": 7,
   "id": "f1fde0c8",
   "metadata": {},
   "outputs": [
    {
     "name": "stdout",
     "output_type": "stream",
     "text": [
      "{'고향': '수원', '취미': '영화', '좋아하는 음식': '국수'}\n"
     ]
    }
   ],
   "source": [
    "# step 6\n",
    "information = {\"고향\":\"수원\", \"취미\":\"영화관람\", \"좋아하는 음식\":\"국수\"}\n",
    "print(information)\n",
    "print(information.get(\"취미\"))"
   ]
  },
  {
   "cell_type": "code",
   "execution_count": 8,
   "id": "5ccf46d2",
   "metadata": {},
   "outputs": [
    {
     "name": "stdout",
     "output_type": "stream",
     "text": [
      "피아노\n",
      "서울\n"
     ]
    }
   ],
   "source": [
    "# step 6\n",
    "information = {\"특기\":\"피아노\", \"사는 곳\":\"서울\"}\n",
    "print(information.get(\"특기\"))\n",
    "print(information.get(\"사는 곳\"))"
   ]
  },
  {
   "cell_type": "code",
   "execution_count": 16,
   "id": "331569e9",
   "metadata": {},
   "outputs": [
    {
     "name": "stdout",
     "output_type": "stream",
     "text": [
      "{'고향': '수원', '취미': '영화관람', '특기': '피아노', '사는곳': '서울'}\n",
      "4\n",
      "{}\n",
      "제육볶음\n",
      "제육볶음\n",
      "['된장찌개', '피자', '제육볶음', '김밥']\n",
      "['된장찌개', '제육볶음', '김밥']\n"
     ]
    }
   ],
   "source": [
    "# step 7\n",
    "information = {\"고향\":\"수원\", \"취미\":\"영화관람\", \"좋아하는 음식\":\"국수\"}\n",
    "information[\"특기\"] = \"피아노\"\n",
    "information[\"사는곳\"] = \"서울\"\n",
    "\n",
    "del information[\"좋아하는 음식\"]\n",
    "print(information)\n",
    "\n",
    "print(len(information))\n",
    "\n",
    "information.clear()\n",
    "print(information)\n",
    "\n",
    "foods = [\"된장찌개\", \"피자\", \"제육볶음\"]\n",
    "print(foods[2])\n",
    "print(foods[-1])\n",
    "\n",
    "foods.append(\"김밥\")\n",
    "print(foods)\n",
    "\n",
    "del foods[1]\n",
    "print(foods)"
   ]
  },
  {
   "cell_type": "code",
   "execution_count": 17,
   "id": "e465b86a",
   "metadata": {},
   "outputs": [
    {
     "name": "stdout",
     "output_type": "stream",
     "text": [
      "0\n",
      "1\n",
      "2\n",
      "3\n",
      "4\n",
      "5\n",
      "6\n",
      "7\n",
      "8\n",
      "9\n",
      "10\n",
      "11\n",
      "12\n",
      "13\n",
      "14\n",
      "15\n",
      "16\n",
      "17\n",
      "18\n",
      "19\n",
      "20\n",
      "21\n",
      "22\n",
      "23\n",
      "24\n",
      "25\n",
      "26\n",
      "27\n",
      "28\n",
      "29\n"
     ]
    }
   ],
   "source": [
    "# step 8\n",
    "for x in range(30):\n",
    "    print(x)"
   ]
  },
  {
   "cell_type": "code",
   "execution_count": 19,
   "id": "d78b3a31",
   "metadata": {},
   "outputs": [
    {
     "name": "stdout",
     "output_type": "stream",
     "text": [
      "된장찌개\n",
      "피자\n",
      "제육볶음\n",
      "된장찌개\n",
      "피자\n",
      "제육볶음\n"
     ]
    }
   ],
   "source": [
    "# step 8\n",
    "foods = [\"된장찌개\", \"피자\", \"제육볶음\"]\n",
    "\n",
    "for x in range(3):\n",
    "    print(foods[x])\n",
    "\n",
    "for x in foods:\n",
    "    print(x)"
   ]
  },
  {
   "cell_type": "code",
   "execution_count": 20,
   "id": "910e6ff1",
   "metadata": {},
   "outputs": [
    {
     "name": "stdout",
     "output_type": "stream",
     "text": [
      "고향\n",
      "수원\n",
      "취미\n",
      "영화관람\n",
      "좋아하는 음식\n",
      "국수\n"
     ]
    }
   ],
   "source": [
    "# step 8\n",
    "information = {\"고향\":\"수원\", \"취미\":\"영화관람\", \"좋아하는 음식\":\"국수\"}\n",
    "for x, y in information.items():\n",
    "    print(x)\n",
    "    print(y)"
   ]
  },
  {
   "cell_type": "code",
   "execution_count": 22,
   "id": "ed28ce74",
   "metadata": {},
   "outputs": [
    {
     "name": "stdout",
     "output_type": "stream",
     "text": [
      "['된장찌개', '피자', '제육볶음', '된장찌개']\n",
      "{'된장찌개', '피자', '제육볶음'}\n"
     ]
    }
   ],
   "source": [
    "# step 9, 10\n",
    "foods = [\"된장찌개\", \"피자\", \"제육볶음\", \"된장찌개\"]\n",
    "foods_set1 = set(foods)\n",
    "# foods_set2 = set([\"된장찌개\", \"피자\", \"제육볶음\"])\n",
    "print(foods)\n",
    "print(foods_set1)"
   ]
  },
  {
   "cell_type": "code",
   "execution_count": 24,
   "id": "d78a77b2",
   "metadata": {},
   "outputs": [
    {
     "name": "stdout",
     "output_type": "stream",
     "text": [
      "{'떡국', '된장찌개', '김밥', '피자', '제육볶음'}\n",
      "{'된장찌개'}\n",
      "{'피자', '제육볶음'}\n"
     ]
    }
   ],
   "source": [
    "# step 10\n",
    "menu1 = set([\"된장찌개\", \"피자\", \"제육볶음\"])\n",
    "menu2 = set([\"된장찌개\", \"떡국\", \"김밥\"])\n",
    "menu3 = menu1 | menu2\n",
    "menu4 = menu1 & menu2\n",
    "menu5 = menu1 - menu2\n",
    "print(menu3)\n",
    "print(menu4)\n",
    "print(menu5)"
   ]
  },
  {
   "cell_type": "code",
   "execution_count": 28,
   "id": "05d98164",
   "metadata": {},
   "outputs": [
    {
     "name": "stdout",
     "output_type": "stream",
     "text": [
      "제육볶음\n",
      "곱배기 주세요.\n",
      "종료\n"
     ]
    }
   ],
   "source": [
    "# step 11\n",
    "import random\n",
    "\n",
    "food = random.choice([\"된장찌개\", \"피자\", \"제육볶음\"])\n",
    "print(food)\n",
    "\n",
    "if (food == \"제육볶음\"):\n",
    "    print(\"곱배기 주세요.\")\n",
    "else:\n",
    "    print(\"그냥 주세요.\")\n",
    "print(\"종료\")"
   ]
  },
  {
   "cell_type": "markdown",
   "id": "6cf2f717",
   "metadata": {},
   "source": [
    "# 제작하기"
   ]
  },
  {
   "cell_type": "code",
   "execution_count": 38,
   "id": "38e5779a",
   "metadata": {},
   "outputs": [
    {
     "name": "stdout",
     "output_type": "stream",
     "text": [
      "음식을 추가해주세요 : 돈까스\n",
      "음식을 추가해주세요 : q\n",
      "['된장찌개', '피자', '제육볶음', '짜장면', '돈까스']\n",
      "{'된장찌개', '피자', '제육볶음', '짜장면', '돈까스'}\n",
      "음식을 삭제해주세요 : 된장찌개\n",
      "{'짜장면', '돈까스', '피자', '제육볶음'}\n",
      "음식을 삭제해주세요 : q\n",
      "{'짜장면', '돈까스', '피자', '제육볶음'} 중에서 선택합니다.\n",
      "5\n",
      "4\n",
      "3\n",
      "2\n",
      "1\n",
      "피자\n"
     ]
    }
   ],
   "source": [
    "import random\n",
    "import time\n",
    "\n",
    "lunch = [\"된장찌개\", \"피자\", \"제육볶음\", \"짜장면\"]\n",
    "while True:\n",
    "    item = input(\"음식을 추가해주세요 : \")\n",
    "    if (item == \"q\"):\n",
    "        break\n",
    "    else:\n",
    "        lunch.append(item)\n",
    "\n",
    "print(lunch)\n",
    "set_lunch = set(lunch)\n",
    "while True:\n",
    "    print(set_lunch)\n",
    "    item = input(\"음식을 삭제해주세요 : \")\n",
    "    if item == \"q\":\n",
    "        break\n",
    "    else:\n",
    "        set_lunch = set_lunch - set([item])\n",
    "\n",
    "print(set_lunch, \"중에서 선택합니다.\")\n",
    "\n",
    "for i in range(5, 0, -1):\n",
    "    print(i)\n",
    "    time.sleep(1)\n",
    "\n",
    "print(random.choice(list(set_lunch)))"
   ]
  },
  {
   "cell_type": "code",
   "execution_count": 35,
   "id": "59941449",
   "metadata": {},
   "outputs": [
    {
     "name": "stdout",
     "output_type": "stream",
     "text": [
      "{'된장찌개', '피자', '제육볶음'}\n"
     ]
    }
   ],
   "source": [
    "# step 14\n",
    "set_lunch = set([\"된장찌개\", \"피자\", \"제육볶음\", \"짜장면\"])\n",
    "item = \"짜장면\"\n",
    "set_lunch = set_lunch - set([item])\n",
    "print(set_lunch)"
   ]
  },
  {
   "cell_type": "code",
   "execution_count": null,
   "id": "005afc49",
   "metadata": {},
   "outputs": [],
   "source": []
  }
 ],
 "metadata": {
  "kernelspec": {
   "display_name": "Python 3 (ipykernel)",
   "language": "python",
   "name": "python3"
  },
  "language_info": {
   "codemirror_mode": {
    "name": "ipython",
    "version": 3
   },
   "file_extension": ".py",
   "mimetype": "text/x-python",
   "name": "python",
   "nbconvert_exporter": "python",
   "pygments_lexer": "ipython3",
   "version": "3.9.7"
  }
 },
 "nbformat": 4,
 "nbformat_minor": 5
}
